{
 "cells": [
  {
   "cell_type": "code",
   "execution_count": 3,
   "id": "285b9a38-62b5-4703-99a7-2d3926a43968",
   "metadata": {},
   "outputs": [
    {
     "data": {
      "text/plain": [
       "'\\nPrograma: Soma\\nDescrição: determine o n-´esimo termo e a soma dos termos de uma progress˜ao aritm´etica onde n,\\nprimeiro termo e a raz˜ao s˜ao dados pelo usu´ario.\\nAutor: Arthur Gaspareto\\nData: 25/02/25\\nVersão: 0.0.1\\nNovidades da Versão\\n\\n25/02/2025\\nNesta versão:\\n1.\\n'"
      ]
     },
     "execution_count": 3,
     "metadata": {},
     "output_type": "execute_result"
    }
   ],
   "source": [
    "'''\n",
    "Programa: Soma\n",
    "Descrição: determine o n-´esimo termo e a soma dos termos de uma progress˜ao aritm´etica onde n,\n",
    "primeiro termo e a raz˜ao s˜ao dados pelo usu´ario.\n",
    "Autor: Arthur Gaspareto\n",
    "Data: 25/02/25\n",
    "Versão: 0.0.1\n",
    "Novidades da Versão\n",
    "\n",
    "25/02/2025\n",
    "Nesta versão:\n",
    "1.\n",
    "'''"
   ]
  },
  {
   "cell_type": "code",
   "execution_count": 24,
   "id": "c23a062c-f895-4370-b98a-040f945a687f",
   "metadata": {},
   "outputs": [],
   "source": [
    "#Alocação de Memória\n",
    "termo_1 = 0\n",
    "razao = 0\n",
    "n = 0"
   ]
  },
  {
   "cell_type": "code",
   "execution_count": 28,
   "id": "957ee636-d44f-451e-9175-d3e3c1488f45",
   "metadata": {},
   "outputs": [
    {
     "name": "stdin",
     "output_type": "stream",
     "text": [
      "Qual o primeiro termo? 2\n",
      "Qual a razão? 2\n",
      "Qual o n desejado? 8\n"
     ]
    }
   ],
   "source": [
    "#Entrada de Dados\n",
    "\n",
    "termo_1 = float(input(\"Qual o primeiro termo?\"))\n",
    "razao = float(input(\"Qual a razão?\"))\n",
    "n = float(input(\"Qual o n desejado?\"))"
   ]
  },
  {
   "cell_type": "code",
   "execution_count": 30,
   "id": "7a0ac26d-7291-4bf9-8dc4-2b7dd6600e72",
   "metadata": {},
   "outputs": [],
   "source": [
    "#Processamento de Dados\n",
    "termo_geral = termo_1 + (n-1)*razao"
   ]
  },
  {
   "cell_type": "code",
   "execution_count": 32,
   "id": "e7f8a11c-fc45-43bb-bb55-da7eca9af73c",
   "metadata": {},
   "outputs": [
    {
     "name": "stdout",
     "output_type": "stream",
     "text": [
      "O valor do termo desejado é: 16.0.\n"
     ]
    }
   ],
   "source": [
    "#Saída de dados\n",
    "\n",
    "print(f'O valor do termo desejado é: {termo_geral}.')"
   ]
  },
  {
   "cell_type": "code",
   "execution_count": null,
   "id": "bdebbfb6-5767-48bd-b9d9-3b83c5233b5f",
   "metadata": {},
   "outputs": [],
   "source": []
  }
 ],
 "metadata": {
  "kernelspec": {
   "display_name": "Python 3 (ipykernel)",
   "language": "python",
   "name": "python3"
  },
  "language_info": {
   "codemirror_mode": {
    "name": "ipython",
    "version": 3
   },
   "file_extension": ".py",
   "mimetype": "text/x-python",
   "name": "python",
   "nbconvert_exporter": "python",
   "pygments_lexer": "ipython3",
   "version": "3.12.7"
  }
 },
 "nbformat": 4,
 "nbformat_minor": 5
}
